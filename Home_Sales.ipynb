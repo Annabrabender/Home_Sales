{
  "cells": [
    {
      "cell_type": "code",
      "execution_count": 1,
      "metadata": {
        "colab": {
          "base_uri": "https://localhost:8080/"
        },
        "id": "a_KW73O2e3dw",
        "outputId": "3fd849c8-a0a5-44d8-da0d-3c3f5a6b1fcd"
      },
      "outputs": [
        {
          "output_type": "stream",
          "name": "stdout",
          "text": [
            "Collecting pyspark\n",
            "  Downloading pyspark-3.5.0.tar.gz (316.9 MB)\n",
            "\u001b[2K     \u001b[90m━━━━━━━━━━━━━━━━━━━━━━━━━━━━━━━━━━━━━━━━\u001b[0m \u001b[32m316.9/316.9 MB\u001b[0m \u001b[31m2.2 MB/s\u001b[0m eta \u001b[36m0:00:00\u001b[0m\n",
            "\u001b[?25h  Preparing metadata (setup.py) ... \u001b[?25l\u001b[?25hdone\n",
            "Requirement already satisfied: py4j==0.10.9.7 in /usr/local/lib/python3.10/dist-packages (from pyspark) (0.10.9.7)\n",
            "Building wheels for collected packages: pyspark\n",
            "  Building wheel for pyspark (setup.py) ... \u001b[?25l\u001b[?25hdone\n",
            "  Created wheel for pyspark: filename=pyspark-3.5.0-py2.py3-none-any.whl size=317425345 sha256=021f12325813a690e0e83571803d930d902cffc5a8688f3f23470503d48e8b20\n",
            "  Stored in directory: /root/.cache/pip/wheels/41/4e/10/c2cf2467f71c678cfc8a6b9ac9241e5e44a01940da8fbb17fc\n",
            "Successfully built pyspark\n",
            "Installing collected packages: pyspark\n",
            "Successfully installed pyspark-3.5.0\n",
            "Requirement already satisfied: py4j in /usr/local/lib/python3.10/dist-packages (0.10.9.7)\n"
          ]
        }
      ],
      "source": [
        "!wget -q https://dlcdn.apache.org/spark/spark-3.5.0/spark-3.5.0-bin-hadoop3.tgz\n",
        "!tar xf spark-3.5.0-bin-hadoop3.tgz\n",
        "!pip install -q findspark\n",
        "!pip install pyspark\n",
        "!pip install py4j\n",
        "import os\n",
        "import sys\n",
        "# os.environ[\"JAVA_HOME\"] = \"/usr/lib/jvm/java-8-openjdk-amd64\"\n",
        "# os.environ[\"SPARK_HOME\"] = \"/content/spark-3.2.1-bin-hadoop3.2\"\n",
        "# Start a SparkSession\n",
        "import findspark\n",
        "findspark.init()"
      ]
    },
    {
      "cell_type": "code",
      "execution_count": 2,
      "metadata": {
        "id": "2XbWNf1Te5fM"
      },
      "outputs": [],
      "source": [
        "# Import packages\n",
        "from pyspark.sql import SparkSession\n",
        "import time\n",
        "\n",
        "# Create a SparkSession\n",
        "spark = SparkSession.builder.appName(\"SparkSQL\").getOrCreate()"
      ]
    },
    {
      "cell_type": "code",
      "execution_count": 8,
      "metadata": {
        "id": "wOJqxG_RPSwp"
      },
      "outputs": [],
      "source": [
        "# 1. Read in the AWS S3 bucket into a DataFrame.\n",
        "from pyspark import SparkFiles\n",
        "url = \"https://2u-data-curriculum-team.s3.amazonaws.com/dataviz-classroom/v1.2/22-big-data/home_sales_revised.csv\"\n",
        "\n",
        "spark.sparkContext.addFile(url)\n",
        "\n",
        "df = spark.read.option('header', 'true').csv(SparkFiles.get(\"home_sales_revised.csv\"))"
      ]
    },
    {
      "cell_type": "code",
      "execution_count": 9,
      "metadata": {
        "id": "RoljcJ7WPpnm",
        "colab": {
          "base_uri": "https://localhost:8080/"
        },
        "outputId": "d86d7980-d2a5-4698-c6c9-fdb961e17e32"
      },
      "outputs": [
        {
          "output_type": "stream",
          "name": "stdout",
          "text": [
            "+--------------------+----------+----------+------+--------+---------+-----------+--------+------+----------+----+\n",
            "|                  id|      date|date_built| price|bedrooms|bathrooms|sqft_living|sqft_lot|floors|waterfront|view|\n",
            "+--------------------+----------+----------+------+--------+---------+-----------+--------+------+----------+----+\n",
            "|f8a53099-ba1c-47d...|2022-04-08|      2016|936923|       4|        3|       3167|   11733|     2|         1|  76|\n",
            "|7530a2d8-1ae3-451...|2021-06-13|      2013|379628|       2|        2|       2235|   14384|     1|         0|  23|\n",
            "|43de979c-0bf0-4c9...|2019-04-12|      2014|417866|       2|        2|       2127|   10575|     2|         0|   0|\n",
            "|b672c137-b88c-48b...|2019-10-16|      2016|239895|       2|        2|       1631|   11149|     2|         0|   0|\n",
            "|e0726d4d-d595-407...|2022-01-08|      2017|424418|       3|        2|       2249|   13878|     2|         0|   4|\n",
            "|5aa00529-0533-46b...|2019-01-30|      2017|218712|       2|        3|       1965|   14375|     2|         0|   7|\n",
            "|131492a1-72e2-4a8...|2020-02-08|      2017|419199|       2|        3|       2062|    8876|     2|         0|   6|\n",
            "|8d54a71b-c520-44e...|2019-07-21|      2010|323956|       2|        3|       1506|   11816|     1|         0|  25|\n",
            "|e81aacfe-17fe-46b...|2020-06-16|      2016|181925|       3|        3|       2137|   11709|     2|         0|  22|\n",
            "|2ed8d509-7372-46d...|2021-08-06|      2015|258710|       3|        3|       1918|    9666|     1|         0|  25|\n",
            "|f876d86f-3c9f-42b...|2019-02-27|      2011|167864|       3|        3|       2471|   13924|     2|         0|  15|\n",
            "|0a2bd445-8508-4d8...|2021-12-30|      2014|337527|       2|        3|       1926|   12556|     1|         0|  23|\n",
            "|941bad30-eb49-4a7...|2020-05-09|      2015|229896|       3|        3|       2197|    8641|     1|         0|   3|\n",
            "|dd61eb34-6589-4c0...|2021-07-25|      2016|210247|       3|        2|       1672|   11986|     2|         0|  28|\n",
            "|f1e4cef7-d151-439...|2019-02-01|      2011|398667|       2|        3|       2331|   11356|     1|         0|   7|\n",
            "|ea620c7b-c2f7-4c6...|2021-05-31|      2011|437958|       3|        3|       2356|   11052|     1|         0|  26|\n",
            "|f233cb41-6f33-4b0...|2021-07-18|      2016|437375|       4|        3|       1704|   11721|     2|         0|  34|\n",
            "|c797ca12-52cd-4b1...|2019-06-08|      2015|288650|       2|        3|       2100|   10419|     2|         0|   7|\n",
            "|0cfe57f3-28c2-472...|2019-10-04|      2015|308313|       3|        3|       1960|    9453|     2|         0|   2|\n",
            "|4566cd2a-ac6e-435...|2019-07-15|      2016|177541|       3|        3|       2130|   10517|     2|         0|  25|\n",
            "+--------------------+----------+----------+------+--------+---------+-----------+--------+------+----------+----+\n",
            "only showing top 20 rows\n",
            "\n"
          ]
        }
      ],
      "source": [
        "# 2. Create a temporary view of the DataFrame.\n",
        "\n",
        "df.createOrReplaceTempView('home_sales_data')\n",
        "df.show()"
      ]
    },
    {
      "cell_type": "code",
      "execution_count": 11,
      "metadata": {
        "id": "L6fkwOeOmqvq",
        "colab": {
          "base_uri": "https://localhost:8080/"
        },
        "outputId": "a1bad007-24a1-4490-dee5-4c871efd9b23"
      },
      "outputs": [
        {
          "output_type": "stream",
          "name": "stdout",
          "text": [
            "+----------+--------------+\n",
            "|      date|avgerage_price|\n",
            "+----------+--------------+\n",
            "|2020-04-13|      303153.3|\n",
            "|2020-02-26|      295492.0|\n",
            "|2019-08-22|      331777.3|\n",
            "|2019-08-08|     305486.56|\n",
            "|2021-11-03|     279481.33|\n",
            "|2019-08-23|     273917.83|\n",
            "|2020-06-24|     363142.22|\n",
            "|2019-09-29|      286234.2|\n",
            "|2021-12-23|      263829.0|\n",
            "|2019-08-31|     367088.29|\n",
            "|2019-04-25|     240981.75|\n",
            "|2020-06-08|      269630.0|\n",
            "|2020-11-12|     314268.22|\n",
            "|2021-04-06|     250681.71|\n",
            "|2022-05-17|     279781.33|\n",
            "|2020-09-12|     265752.09|\n",
            "|2022-03-30|      273248.0|\n",
            "|2019-01-17|     333439.09|\n",
            "|2021-08-30|      363022.0|\n",
            "|2019-04-26|     318184.93|\n",
            "+----------+--------------+\n",
            "only showing top 20 rows\n",
            "\n"
          ]
        }
      ],
      "source": [
        "# 3. What is the average price for a four bedroom house sold in each year rounded to two decimal places?\n",
        "from pyspark.sql.functions import mean\n",
        "from pyspark.sql.functions import round, col\n",
        "\n",
        "avg_four_bed_house_per_year = df.filter(df.bedrooms == 4)\\\n",
        "    .groupBy(\"date\")\\\n",
        "    .agg(round(mean(\"price\"), 2).alias(\"avgerage_price\"))\n",
        "\n",
        "avg_four_bed_house_per_year.show()\n"
      ]
    },
    {
      "cell_type": "code",
      "execution_count": 13,
      "metadata": {
        "id": "l8p_tUS8h8it",
        "colab": {
          "base_uri": "https://localhost:8080/"
        },
        "outputId": "695c8993-8bfd-4264-a243-8d01a07fe510"
      },
      "outputs": [
        {
          "output_type": "stream",
          "name": "stdout",
          "text": [
            "+----------+-------------+\n",
            "|      date|average_price|\n",
            "+----------+-------------+\n",
            "|2019-08-23|     304089.5|\n",
            "|2021-11-03|     370813.8|\n",
            "|2020-04-13|     298782.0|\n",
            "|2020-02-26|    237994.75|\n",
            "|2019-08-22|     288818.5|\n",
            "|2019-08-08|     380345.2|\n",
            "|2021-12-23|    588392.75|\n",
            "|2019-04-25|     316485.6|\n",
            "|2019-09-29|    280435.13|\n",
            "|2020-06-24|     271525.5|\n",
            "|2019-08-31|     255717.0|\n",
            "|2020-09-12|     449314.0|\n",
            "|2020-06-08|     251318.4|\n",
            "|2021-04-06|    506720.67|\n",
            "|2022-05-17|    301401.25|\n",
            "|2020-11-12|     143575.5|\n",
            "|2021-10-25|    329296.14|\n",
            "|2020-06-22|    249791.25|\n",
            "|2019-04-26|     289360.5|\n",
            "|2020-01-05|    296966.71|\n",
            "+----------+-------------+\n",
            "only showing top 20 rows\n",
            "\n"
          ]
        }
      ],
      "source": [
        "# 4. What is the average price of a home for each year the home was built that have 3 bedrooms and 3 bathrooms rounded to two decimal places?\n",
        "avg_price_home_3bed_3bath_per_year = df.filter((df.bedrooms == 3) & (df.bathrooms == 3)).groupBy(\"date\") \\\n",
        "    .agg(round(mean(\"price\"), 2).alias(\"average_price\"))\n",
        "avg_price_home_3bed_3bath_per_year.show()\n"
      ]
    },
    {
      "cell_type": "code",
      "execution_count": 14,
      "metadata": {
        "id": "Y-Eytz64liDU",
        "colab": {
          "base_uri": "https://localhost:8080/"
        },
        "outputId": "7dd52a0a-bbaf-4bce-8b9d-ddaa7b6be0f4"
      },
      "outputs": [
        {
          "output_type": "stream",
          "name": "stdout",
          "text": [
            "+----------+-------------+\n",
            "|      date|average_price|\n",
            "+----------+-------------+\n",
            "|2021-11-03|    420228.67|\n",
            "|2020-02-26|     189833.5|\n",
            "|2019-08-08|     429942.0|\n",
            "|2019-08-23|     409256.0|\n",
            "|2019-08-22|     176381.0|\n",
            "|2020-04-13|     339996.0|\n",
            "|2019-09-29|     228222.0|\n",
            "|2019-08-31|     189067.0|\n",
            "|2020-06-08|     185722.0|\n",
            "|2020-09-12|     428180.0|\n",
            "|2021-10-25|     406129.0|\n",
            "|2022-03-30|     218683.5|\n",
            "|2019-01-17|    302354.33|\n",
            "|2021-02-18|     351566.0|\n",
            "|2020-06-20|     143247.0|\n",
            "|2019-04-26|     146548.0|\n",
            "|2020-06-22|     275864.0|\n",
            "|2021-08-30|     162626.0|\n",
            "|2019-06-19|     281956.5|\n",
            "|2021-09-23|     369045.0|\n",
            "+----------+-------------+\n",
            "only showing top 20 rows\n",
            "\n"
          ]
        }
      ],
      "source": [
        "# 5. What is the average price of a home for each year built that have 3 bedrooms, 3 bathrooms, with two floors,\n",
        "# and are greater than or equal to 2,000 square feet rounded to two decimal places?\n",
        "\n",
        "avg_price_per_year_3bed_3bath_2floors = df.filter(\n",
        "    (df.bedrooms == 3) &\n",
        "    (df.bathrooms == 3) &\n",
        "    (df.floors == 2) &\n",
        "    (df.sqft_living >= 2000)\n",
        ") \\\n",
        "    .groupBy(\"date\") \\\n",
        "    .agg(round(mean(\"price\"), 2).alias(\"average_price\"))\n",
        "avg_price_per_year_3bed_3bath_2floors.show()"
      ]
    },
    {
      "cell_type": "code",
      "execution_count": 17,
      "metadata": {
        "colab": {
          "base_uri": "https://localhost:8080/"
        },
        "id": "GUrfgOX1pCRd",
        "outputId": "c3c81086-b422-4103-c1cc-a65a87553493"
      },
      "outputs": [
        {
          "output_type": "stream",
          "name": "stdout",
          "text": [
            "+----+-------------+\n",
            "|view|average_price|\n",
            "+----+-------------+\n",
            "|   7|    403005.77|\n",
            "|  51|    788128.21|\n",
            "|  15|     404673.3|\n",
            "|  54|    798684.82|\n",
            "|  11|    399548.12|\n",
            "|  29|    397771.65|\n",
            "|  69|    750537.94|\n",
            "|  42|     396964.5|\n",
            "|  87|    1072285.2|\n",
            "|  73|    752861.18|\n",
            "|  64|    767036.67|\n",
            "|   3|     398867.6|\n",
            "|  30|     397862.0|\n",
            "|  34|    401419.75|\n",
            "|  59|     791453.0|\n",
            "|   8|    398592.71|\n",
            "|  28|    402124.62|\n",
            "|  22|    402022.68|\n",
            "|  85|   1056336.74|\n",
            "|  16|    399586.53|\n",
            "+----+-------------+\n",
            "only showing top 20 rows\n",
            "\n",
            "--- 1.0033512115478516 seconds ---\n"
          ]
        }
      ],
      "source": [
        "# 6. What is the \"view\" rating for the average price of a home, rounded to two decimal places, where the homes are greater than\n",
        "# or equal to $350,000? Although this is a small dataset, determine the run time for this query.\n",
        "\n",
        "start_time = time.time()\n",
        "\n",
        "price_350000 = df.filter(df.price >= 350000)\n",
        "avg_price_view_greaterequal35000= price_350000.groupBy(\"view\").agg(round(mean(\"price\"), 2).alias(\"average_price\"))\n",
        "avg_price_view_greaterequal35000.show()\n",
        "\n",
        "\n",
        "print(\"--- %s seconds ---\" % (time.time() - start_time))"
      ]
    },
    {
      "cell_type": "code",
      "execution_count": 18,
      "metadata": {
        "id": "KAhk3ZD2tFy8"
      },
      "outputs": [],
      "source": [
        "# 7. Cache the the temporary table home_sales.\n",
        "spark.catalog.cacheTable(\"home_sales_data\")"
      ]
    },
    {
      "cell_type": "code",
      "execution_count": 19,
      "metadata": {
        "id": "4opVhbvxtL-i",
        "colab": {
          "base_uri": "https://localhost:8080/"
        },
        "outputId": "2437173f-8721-476e-cafe-69d8e3810033"
      },
      "outputs": [
        {
          "output_type": "execute_result",
          "data": {
            "text/plain": [
              "True"
            ]
          },
          "metadata": {},
          "execution_count": 19
        }
      ],
      "source": [
        "# 8. Check if the table is cached.\n",
        "spark.catalog.isCached('home_sales_data')"
      ]
    },
    {
      "cell_type": "code",
      "execution_count": 20,
      "metadata": {
        "colab": {
          "base_uri": "https://localhost:8080/"
        },
        "id": "5GnL46lwTSEk",
        "outputId": "c9156176-4d14-42b9-effb-200360e0adcb"
      },
      "outputs": [
        {
          "output_type": "stream",
          "name": "stdout",
          "text": [
            "+----+-------------+\n",
            "|view|average_price|\n",
            "+----+-------------+\n",
            "|   7|    403005.77|\n",
            "|  51|    788128.21|\n",
            "|  15|     404673.3|\n",
            "|  54|    798684.82|\n",
            "|  11|    399548.12|\n",
            "|  29|    397771.65|\n",
            "|  69|    750537.94|\n",
            "|  42|     396964.5|\n",
            "|  87|    1072285.2|\n",
            "|  73|    752861.18|\n",
            "|  64|    767036.67|\n",
            "|   3|     398867.6|\n",
            "|  30|     397862.0|\n",
            "|  34|    401419.75|\n",
            "|  59|     791453.0|\n",
            "|   8|    398592.71|\n",
            "|  28|    402124.62|\n",
            "|  22|    402022.68|\n",
            "|  85|   1056336.74|\n",
            "|  16|    399586.53|\n",
            "+----+-------------+\n",
            "only showing top 20 rows\n",
            "\n",
            "--- 2.918809175491333 seconds ---\n"
          ]
        }
      ],
      "source": [
        "# 9. Using the cached data, run the query that filters out the view ratings with average price\n",
        "#  greater than or equal to $350,000. Determine the runtime and compare it to uncached runtime.\n",
        "\n",
        "start_time = time.time()\n",
        "\n",
        "price_350000_cached = df.filter(df.price >= 350000)\n",
        "avg_price_view_cached = price_350000_cached.groupBy(\"view\").agg(round(mean(\"price\"), 2).alias(\"average_price\"))\n",
        "avg_price_view_cached.show()\n",
        "\n",
        "print(\"--- %s seconds ---\" % (time.time() - start_time))\n"
      ]
    },
    {
      "cell_type": "code",
      "execution_count": 21,
      "metadata": {
        "id": "Qm12WN9isHBR"
      },
      "outputs": [],
      "source": [
        "# 10. Partition by the \"date_built\" field on the formatted parquet home sales data\n",
        "df.write.partitionBy(\"date_built\").mode(\"overwrite\").parquet(\"home_sales_parquet\")"
      ]
    },
    {
      "cell_type": "code",
      "execution_count": 22,
      "metadata": {
        "id": "AZ7BgY61sRqY"
      },
      "outputs": [],
      "source": [
        "# 11. Read the parquet formatted data.\n",
        "parquet_home_sales=spark.read.parquet('home_sales_parquet')"
      ]
    },
    {
      "cell_type": "code",
      "execution_count": 23,
      "metadata": {
        "id": "J6MJkHfvVcvh"
      },
      "outputs": [],
      "source": [
        "# 12. Create a temporary table for the parquet data.\n",
        "parquet_home_sales.createOrReplaceTempView('home_sales_parquet')"
      ]
    },
    {
      "cell_type": "code",
      "execution_count": 24,
      "metadata": {
        "colab": {
          "base_uri": "https://localhost:8080/"
        },
        "id": "G_Vhb52rU1Sn",
        "outputId": "ca496ce7-2a4c-43f0-b34c-545dcf992337"
      },
      "outputs": [
        {
          "output_type": "stream",
          "name": "stdout",
          "text": [
            "+----+-------------+\n",
            "|view|average_price|\n",
            "+----+-------------+\n",
            "|   7|    403005.77|\n",
            "|  51|    788128.21|\n",
            "|  15|     404673.3|\n",
            "|  54|    798684.82|\n",
            "|  11|    399548.12|\n",
            "|  29|    397771.65|\n",
            "|  69|    750537.94|\n",
            "|  42|     396964.5|\n",
            "|  87|    1072285.2|\n",
            "|  73|    752861.18|\n",
            "|  64|    767036.67|\n",
            "|   3|     398867.6|\n",
            "|  30|     397862.0|\n",
            "|  34|    401419.75|\n",
            "|  59|     791453.0|\n",
            "|   8|    398592.71|\n",
            "|  28|    402124.62|\n",
            "|  22|    402022.68|\n",
            "|  85|   1056336.74|\n",
            "|  16|    399586.53|\n",
            "+----+-------------+\n",
            "only showing top 20 rows\n",
            "\n",
            "--- 0.6851723194122314 seconds ---\n"
          ]
        }
      ],
      "source": [
        "# 13. Run the query that filters out the view ratings with average price of greater than or equal to $350,000\n",
        "# with the parquet DataFrame. Round your average to two decimal places.\n",
        "# Determine the runtime and compare it to the cached version.\n",
        "\n",
        "start_time = time.time()\n",
        "price_350000_parquet = df.filter(df.price >= 350000)\n",
        "avg_price_view_parquet = price_350000_cached.groupBy(\"view\").agg(round(mean(\"price\"), 2).alias(\"average_price\"))\n",
        "avg_price_view_parquet.show()\n",
        "\n",
        "\n",
        "print(\"--- %s seconds ---\" % (time.time() - start_time))"
      ]
    },
    {
      "cell_type": "code",
      "execution_count": 26,
      "metadata": {
        "id": "hjjYzQGjtbq8",
        "colab": {
          "base_uri": "https://localhost:8080/"
        },
        "outputId": "869fb285-d330-42f7-c881-15b4aee42539"
      },
      "outputs": [
        {
          "output_type": "execute_result",
          "data": {
            "text/plain": [
              "DataFrame[]"
            ]
          },
          "metadata": {},
          "execution_count": 26
        }
      ],
      "source": [
        "# 14. Uncache the home_sales temporary table.\n",
        "spark.sql(\"uncache table home_sales_data\")"
      ]
    },
    {
      "cell_type": "code",
      "execution_count": 27,
      "metadata": {
        "id": "Sy9NBvO7tlmm",
        "colab": {
          "base_uri": "https://localhost:8080/"
        },
        "outputId": "2b451209-014a-4762-8255-373b8897a742"
      },
      "outputs": [
        {
          "output_type": "execute_result",
          "data": {
            "text/plain": [
              "False"
            ]
          },
          "metadata": {},
          "execution_count": 27
        }
      ],
      "source": [
        "# 15. Check if the home_sales is no longer cached\n",
        "spark.catalog.isCached(\"home_sales_data\")\n"
      ]
    },
    {
      "cell_type": "code",
      "execution_count": null,
      "metadata": {
        "id": "Si-BNruRUGK3"
      },
      "outputs": [],
      "source": []
    }
  ],
  "metadata": {
    "colab": {
      "provenance": []
    },
    "gpuClass": "standard",
    "kernelspec": {
      "display_name": "Python 3 (ipykernel)",
      "language": "python",
      "name": "python3"
    },
    "language_info": {
      "codemirror_mode": {
        "name": "ipython",
        "version": 3
      },
      "file_extension": ".py",
      "mimetype": "text/x-python",
      "name": "python",
      "nbconvert_exporter": "python",
      "pygments_lexer": "ipython3",
      "version": "3.10.4"
    },
    "nteract": {
      "version": "0.28.0"
    }
  },
  "nbformat": 4,
  "nbformat_minor": 0
}